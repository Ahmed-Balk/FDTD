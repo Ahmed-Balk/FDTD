{
 "cells": [
  {
   "cell_type": "code",
   "execution_count": 1,
   "metadata": {},
   "outputs": [],
   "source": [
    "import numpy as np \n",
    "import matplotlib.pyplot as plt\n",
    "from matplotlib.animation import FuncAnimation\n",
    "epsi0 =  8.8541878128e-12\n",
    "mu0 = 1.25663706212e-6\n",
    "c0 = 1/np.sqrt(epsi0*mu0)\n",
    "imp0 = np.sqrt(mu0/epsi0)\n",
    "\n",
    "jmax = 500\n",
    "nmax = 2000\n",
    "jsource = 100"
   ]
  },
  {
   "cell_type": "code",
   "execution_count": 37,
   "metadata": {},
   "outputs": [],
   "source": [
    "Ex = np.zeros(jmax)\n",
    "Hz = np.zeros(jmax)\n",
    "Ex_prev = np.zeros(jmax)\n",
    "Hz_prev = np.zeros(jmax)"
   ]
  },
  {
   "cell_type": "code",
   "execution_count": 38,
   "metadata": {},
   "outputs": [],
   "source": [
    "lambda_min = 350e-9\n",
    "dx = lambda_min/20 \n",
    "dt = dx/c0\n",
    "eps = epsi0"
   ]
  },
  {
   "cell_type": "code",
   "execution_count": 39,
   "metadata": {},
   "outputs": [],
   "source": [
    "def Source_Function(t):\n",
    "    tau = 300\n",
    "    t0 = tau*3\n",
    "    lambda_0 = 550e-9\n",
    "    w0 = 2*np.pi*c0/lambda_0\n",
    "    return np.exp(-(t-t0)**2/tau**2)*np.sin(w0*t*dt)"
   ]
  },
  {
   "cell_type": "code",
   "execution_count": 44,
   "metadata": {},
   "outputs": [
    {
     "data": {
      "image/png": "[encoded data removed]",
      "text/plain": [
       "<Figure size 640x480 with 1 Axes>"
      ]
     },
     "metadata": {},
     "output_type": "display_data"
    }
   ],
   "source": [
    "fig = plt.figure()\n",
    "ax = plt.subplot(111)\n",
    "ax.set_ylim([-1,1])\n",
    "line, = ax.plot(Ex)"
   ]
  },
  {
   "cell_type": "code",
   "execution_count": null,
   "metadata": {},
   "outputs": [],
   "source": [
    "def animate(i):\n",
    "    n=i\n",
    "    #Update magnetic field boudaries \n",
    "    Hz[jmax-1] = Hz_prev[jmax-2]\n",
    "    #Update magnetic field\n",
    "    for j in range(jmax-1):\n",
    "        Hz[ ]= Hz_prev[j]+ dt/(dx*mu0) * (Ex[j+1]-Ex[j])\n",
    "        Hz_prev[j]=Hz[j]\n",
    "    \n",
    "    #Magnetic field\n",
    "    Hz[jsource-1] -= Source_Function(n)/imp0\n",
    "    Hz_prev[jsource-1] = Hz[jsource-1]\n",
    "\n",
    "    #Update electric field boudaries \n",
    "    Ex[0] = Ex_prev[1]\n",
    "    #Update electric field\n",
    "    for j in range(1,jmax):\n",
    "        Ex[j]= Ex_prev[j]+ dt/(dx*eps) * (Hz[j]-Hz[j-1])\n",
    "        Ex_prev[j]=Ex[j]\n",
    "\n",
    "        \n",
    "    Ex[jsource] += Source_Function(n+1)\n",
    "    Ex_prev[jsource]=Ex[jsource]\n",
    "    \n",
    "    if n%10 == 0:\n",
    "        \n",
    "    line.set_ydata(Ex)\n",
    "\n",
    "    return line,\n"
   ]
  },
  {
   "cell_type": "code",
   "execution_count": 49,
   "metadata": {},
   "outputs": [
    {
     "ename": "AttributeError",
     "evalue": "module 'matplotlib.pyplot' has no attribute 'anim'",
     "output_type": "error",
     "traceback": [
      "\u001b[1;31m---------------------------------------------------------------------------\u001b[0m",
      "\u001b[1;31mAttributeError\u001b[0m                            Traceback (most recent call last)",
      "\u001b[1;32mUntitled-1.ipynb Cell 7\u001b[0m line \u001b[0;36m2\n\u001b[0;32m      <a href='vscode-notebook-cell:Untitled-1.ipynb?jupyter-notebook#W4sdW50aXRsZWQ%3D?line=0'>1</a>\u001b[0m anim \u001b[39m=\u001b[39m FuncAnimation(fig, animate, frames \u001b[39m=\u001b[39m nmax, interval \u001b[39m=\u001b[39m \u001b[39m10\u001b[39m)\n\u001b[1;32m----> <a href='vscode-notebook-cell:Untitled-1.ipynb?jupyter-notebook#W4sdW50aXRsZWQ%3D?line=1'>2</a>\u001b[0m plt\u001b[39m.\u001b[39;49manim()\n",
      "\u001b[1;31mAttributeError\u001b[0m: module 'matplotlib.pyplot' has no attribute 'anim'"
     ]
    }
   ],
   "source": [
    "anim = FuncAnimation(fig, animate, frames = nmax, interval = 10)\n",
    "\n",
    "plt.anim()\n"
   ]
  },
  {
   "cell_type": "code",
   "execution_count": null,
   "metadata": {},
   "outputs": [
    {
     "data": {
      "text/plain": [
       "5.837371665967533e-17"
      ]
     },
     "execution_count": 22,
     "metadata": {},
     "output_type": "execute_result"
    }
   ],
   "source": []
  },
  {
   "cell_type": "code",
   "execution_count": null,
   "metadata": {},
   "outputs": [],
   "source": []
  }
 ],
 "metadata": {
  "kernelspec": {
   "display_name": "env310",
   "language": "python",
   "name": "python3"
  },
  "language_info": {
   "codemirror_mode": {
    "name": "ipython",
    "version": 3
   },
   "file_extension": ".py",
   "mimetype": "text/x-python",
   "name": "python",
   "nbconvert_exporter": "python",
   "pygments_lexer": "ipython3",
   "version": "3.10.14"
  }
 },
 "nbformat": 4,
 "nbformat_minor": 2
}
